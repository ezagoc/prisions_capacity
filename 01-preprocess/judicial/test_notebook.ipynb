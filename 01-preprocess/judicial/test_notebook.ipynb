{
 "cells": [
  {
   "cell_type": "code",
   "execution_count": 1,
   "id": "9fed35cc",
   "metadata": {},
   "outputs": [],
   "source": [
    "import pandas as pd\n",
    "import numpy as np\n",
    "from dbfread import DBF\n",
    "\n",
    "pf1 = '../../../data/01-judicial/00-sentencing/raw/judiciales_bd_catalogos_2000_dbf/judiciales_bd_catalogos_2000/CatalogosMicrodatos_2000'\n"
   ]
  },
  {
   "cell_type": "code",
   "execution_count": null,
   "id": "d4b87fc8",
   "metadata": {},
   "outputs": [
    {
     "data": {
      "application/vnd.microsoft.datawrangler.viewer.v0+json": {
       "columns": [
        {
         "name": "index",
         "rawType": "int64",
         "type": "integer"
        },
        {
         "name": "CVE_DEL",
         "rawType": "object",
         "type": "string"
        },
        {
         "name": "DESC_DEL",
         "rawType": "object",
         "type": "string"
        }
       ],
       "ref": "a8000e26-8d5a-411f-bfd3-b8770a640d09",
       "rows": [
        [
         "0",
         "010100",
         "Contra preceptos constitucionales"
        ],
        [
         "1",
         "010101",
         "Contra el orden constitucional"
        ],
        [
         "2",
         "010200",
         "Atentados a la soberan¡a del Estado"
        ],
        [
         "3",
         "010300",
         "Traici¢n a la Patria"
        ],
        [
         "4",
         "010400",
         "Contra la integridad territorial"
        ],
        [
         "5",
         "010500",
         "Rebeli¢n"
        ],
        [
         "6",
         "010600",
         "Sedici¢n"
        ],
        [
         "7",
         "010700",
         "Terrorismo"
        ],
        [
         "8",
         "010701",
         "Atentados contra la paz p£blica"
        ],
        [
         "9",
         "010800",
         "Mot¡n"
        ],
        [
         "10",
         "010801",
         "Asonada"
        ],
        [
         "11",
         "010802",
         "Desorden p£blico"
        ],
        [
         "12",
         "010900",
         "Sabotaje"
        ],
        [
         "13",
         "011000",
         "Conspiraci¢n"
        ],
        [
         "14",
         "011100",
         "Espionaje"
        ],
        [
         "15",
         "011200",
         "De car cter pol¡tico"
        ],
        [
         "16",
         "011300",
         "Ultrajes a insignias nacionales"
        ],
        [
         "17",
         "011301",
         "Ultrajes a insignias p£blicas"
        ],
        [
         "18",
         "011302",
         "Atentados a s¡mbolos patrios"
        ],
        [
         "19",
         "020100",
         "Pirater¡a"
        ],
        [
         "20",
         "020200",
         "Contra la inmunidad y neutralidad"
        ],
        [
         "21",
         "030100",
         "Violaci¢n al deber de humanidad"
        ],
        [
         "22",
         "030200",
         "Genocidio"
        ],
        [
         "23",
         "040100",
         "Ejercicio indebido del servicio"
        ],
        [
         "24",
         "040101",
         "Desempe¤o irregular de funci¢n"
        ],
        [
         "25",
         "040102",
         "En agravio de hacienda p£blica por servidor"
        ],
        [
         "26",
         "040103",
         "Contra el patrimonio por servidor"
        ],
        [
         "27",
         "040104",
         "Contra el buen despacho de la administraci¢n"
        ],
        [
         "28",
         "040105",
         "Negligencia en el desempe¤o de funci¢n"
        ],
        [
         "29",
         "040106",
         "Abandono de funci¢n p£blica"
        ],
        [
         "30",
         "040107",
         "Abandono de funciones"
        ],
        [
         "31",
         "040108",
         "Abandono del servicio p£blico"
        ],
        [
         "32",
         "040109",
         "Incompatibilidad de labores"
        ],
        [
         "33",
         "040110",
         "Adquirir u ocultar recursos p£blicos"
        ],
        [
         "34",
         "040111",
         "Malversaci¢n de fondos"
        ],
        [
         "35",
         "040112",
         "Anticipaci¢n de funciones p£blicas"
        ],
        [
         "36",
         "040113",
         "Prolongaci¢n de funciones p£blicas"
        ],
        [
         "37",
         "040114",
         "Incumplimiento de funciones p£blicas"
        ],
        [
         "38",
         "040115",
         "Negociaci¢n il¡cita"
        ],
        [
         "39",
         "040116",
         "Negociaci¢n indebida"
        ],
        [
         "40",
         "040117",
         "Distracci¢n de recursos p£blicos"
        ],
        [
         "41",
         "040200",
         "Abuso de autoridad"
        ],
        [
         "42",
         "040201",
         "Ejercicio abusivo de funciones"
        ],
        [
         "43",
         "040300",
         "Coalici¢n de servidores p£blicos"
        ],
        [
         "44",
         "040301",
         "Coalici¢n de funcionarios"
        ],
        [
         "45",
         "040400",
         "Concusi¢n"
        ],
        [
         "46",
         "040401",
         "Exacci¢n ilegal"
        ],
        [
         "47",
         "040500",
         "Cohecho"
        ],
        [
         "48",
         "040501",
         "Cohecho cometido por particulares"
        ],
        [
         "49",
         "040600",
         "Peculado"
        ]
       ],
       "shape": {
        "columns": 2,
        "rows": 424
       }
      },
      "text/html": [
       "<div>\n",
       "<style scoped>\n",
       "    .dataframe tbody tr th:only-of-type {\n",
       "        vertical-align: middle;\n",
       "    }\n",
       "\n",
       "    .dataframe tbody tr th {\n",
       "        vertical-align: top;\n",
       "    }\n",
       "\n",
       "    .dataframe thead th {\n",
       "        text-align: right;\n",
       "    }\n",
       "</style>\n",
       "<table border=\"1\" class=\"dataframe\">\n",
       "  <thead>\n",
       "    <tr style=\"text-align: right;\">\n",
       "      <th></th>\n",
       "      <th>CVE_DEL</th>\n",
       "      <th>DESC_DEL</th>\n",
       "    </tr>\n",
       "  </thead>\n",
       "  <tbody>\n",
       "    <tr>\n",
       "      <th>0</th>\n",
       "      <td>010100</td>\n",
       "      <td>Contra preceptos constitucionales</td>\n",
       "    </tr>\n",
       "    <tr>\n",
       "      <th>1</th>\n",
       "      <td>010101</td>\n",
       "      <td>Contra el orden constitucional</td>\n",
       "    </tr>\n",
       "    <tr>\n",
       "      <th>2</th>\n",
       "      <td>010200</td>\n",
       "      <td>Atentados a la soberan¡a del Estado</td>\n",
       "    </tr>\n",
       "    <tr>\n",
       "      <th>3</th>\n",
       "      <td>010300</td>\n",
       "      <td>Traici¢n a la Patria</td>\n",
       "    </tr>\n",
       "    <tr>\n",
       "      <th>4</th>\n",
       "      <td>010400</td>\n",
       "      <td>Contra la integridad territorial</td>\n",
       "    </tr>\n",
       "    <tr>\n",
       "      <th>...</th>\n",
       "      <td>...</td>\n",
       "      <td>...</td>\n",
       "    </tr>\n",
       "    <tr>\n",
       "      <th>419</th>\n",
       "      <td>300100</td>\n",
       "      <td>Previsto en la Ley de derechos de autor</td>\n",
       "    </tr>\n",
       "    <tr>\n",
       "      <th>420</th>\n",
       "      <td>310100</td>\n",
       "      <td>Previsto en la Ley de monumento y zona arqueol...</td>\n",
       "    </tr>\n",
       "    <tr>\n",
       "      <th>421</th>\n",
       "      <td>320100</td>\n",
       "      <td>Previsto en la Ley de invenciones y marcas</td>\n",
       "    </tr>\n",
       "    <tr>\n",
       "      <th>422</th>\n",
       "      <td>999900</td>\n",
       "      <td>Otros delitos</td>\n",
       "    </tr>\n",
       "    <tr>\n",
       "      <th>423</th>\n",
       "      <td>999999</td>\n",
       "      <td>Otros delitos</td>\n",
       "    </tr>\n",
       "  </tbody>\n",
       "</table>\n",
       "<p>424 rows × 2 columns</p>\n",
       "</div>"
      ],
      "text/plain": [
       "    CVE_DEL                                           DESC_DEL\n",
       "0    010100                  Contra preceptos constitucionales\n",
       "1    010101                     Contra el orden constitucional\n",
       "2    010200                Atentados a la soberan¡a del Estado\n",
       "3    010300                               Traici¢n a la Patria\n",
       "4    010400                   Contra la integridad territorial\n",
       "..      ...                                                ...\n",
       "419  300100            Previsto en la Ley de derechos de autor\n",
       "420  310100  Previsto en la Ley de monumento y zona arqueol...\n",
       "421  320100         Previsto en la Ley de invenciones y marcas\n",
       "422  999900                                      Otros delitos\n",
       "423  999999                                      Otros delitos\n",
       "\n",
       "[424 rows x 2 columns]"
      ]
     },
     "execution_count": 2,
     "metadata": {},
     "output_type": "execute_result"
    }
   ],
   "source": [
    "table = DBF(f'{pf1}/cdel2000.DBF')\n",
    "\n",
    "\n",
    "df = pd.DataFrame(iter(table))\n",
    "df.to_excel(f'{pf1}/cdel2000.xlsx', index = False)\n"
   ]
  }
 ],
 "metadata": {
  "kernelspec": {
   "display_name": "base",
   "language": "python",
   "name": "python3"
  },
  "language_info": {
   "codemirror_mode": {
    "name": "ipython",
    "version": 3
   },
   "file_extension": ".py",
   "mimetype": "text/x-python",
   "name": "python",
   "nbconvert_exporter": "python",
   "pygments_lexer": "ipython3",
   "version": "3.9.12"
  }
 },
 "nbformat": 4,
 "nbformat_minor": 5
}
